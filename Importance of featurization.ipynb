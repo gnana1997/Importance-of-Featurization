{
 "cells": [
  {
   "cell_type": "code",
   "execution_count": 1,
   "metadata": {},
   "outputs": [],
   "source": [
    "import pandas as pd\n",
    "import numpy as np\n",
    "import math\n",
    "import random\n",
    "import matplotlib.pyplot as plt\n",
    "from sklearn.model_selection import GridSearchCV\n",
    "from sklearn.model_selection import train_test_split\n",
    "from sklearn.linear_model import LogisticRegression\n",
    "import warnings\n",
    "warnings.filterwarnings(\"ignore\")\n",
    "from prettytable import PrettyTable\n",
    "%matplotlib inline"
   ]
  },
  {
   "cell_type": "code",
   "execution_count": 2,
   "metadata": {},
   "outputs": [],
   "source": [
    "r=random.sample(range(1, 200), 100)"
   ]
  },
  {
   "cell_type": "code",
   "execution_count": 3,
   "metadata": {},
   "outputs": [],
   "source": [
    "pos_df=pd.DataFrame(columns=['feat_1','feat_2','label'])"
   ]
  },
  {
   "cell_type": "code",
   "execution_count": 4,
   "metadata": {},
   "outputs": [],
   "source": [
    "pos_df['feat_1']=[5*math.cos(i) for i in r]\n",
    "pos_df['feat_2']=[5*math.sin(i) for i in r]\n",
    "pos_df['label']=[1 for i in range(0,100)]"
   ]
  },
  {
   "cell_type": "code",
   "execution_count": 5,
   "metadata": {},
   "outputs": [],
   "source": [
    "neg_df=pd.DataFrame(columns=['feat_1','feat_2','label'])"
   ]
  },
  {
   "cell_type": "code",
   "execution_count": 6,
   "metadata": {},
   "outputs": [],
   "source": [
    "neg_df['feat_1']=list(np.random.randn(100))\n",
    "neg_df['feat_2']=list(np.random.randn(100))\n",
    "neg_df['label']=[0 for i in range(0,100)]"
   ]
  },
  {
   "cell_type": "code",
   "execution_count": 7,
   "metadata": {},
   "outputs": [],
   "source": [
    "df=pd.concat([pos_df,neg_df])"
   ]
  },
  {
   "cell_type": "code",
   "execution_count": 8,
   "metadata": {},
   "outputs": [],
   "source": [
    "import seaborn as sns"
   ]
  },
  {
   "cell_type": "code",
   "execution_count": 9,
   "metadata": {},
   "outputs": [
    {
     "data": {
      "image/png": "[encoded data removed]",
      "text/plain": [
       "<Figure size 329.625x288 with 1 Axes>"
      ]
     },
     "metadata": {},
     "output_type": "display_data"
    }
   ],
   "source": [
    "plt.close()\n",
    "sns.set_style(\"whitegrid\");\n",
    "sns.FacetGrid(df, hue=\"label\", size=4) \\\n",
    "   .map(plt.scatter, \"feat_1\", \"feat_2\") \\\n",
    "   .add_legend();\n",
    "plt.xlabel('Feature 1')\n",
    "plt.ylabel('Feature 2')\n",
    "plt.title('Original Data')\n",
    "plt.show();"
   ]
  },
  {
   "cell_type": "code",
   "execution_count": 10,
   "metadata": {},
   "outputs": [],
   "source": [
    "#Hyperparameter C\n",
    "c=[0.00001,0.0001,0.001,0.1,1,\\\n",
    "       10,100,1000]"
   ]
  },
  {
   "cell_type": "code",
   "execution_count": 11,
   "metadata": {},
   "outputs": [],
   "source": [
    "c_dict={'C':c}\n",
    "#Here I am using L2 regularization\n",
    "lr=LogisticRegression(penalty='l2',random_state=2)\n",
    "gs5=GridSearchCV(lr,param_grid=c_dict,scoring='roc_auc',cv=5)"
   ]
  },
  {
   "cell_type": "code",
   "execution_count": 12,
   "metadata": {},
   "outputs": [],
   "source": [
    "X_train, X_test, y_train, y_test=train_test_split(df.drop(columns='label'), df['label'], test_size=0.25, stratify=df['label'],random_state=2)"
   ]
  },
  {
   "cell_type": "code",
   "execution_count": 13,
   "metadata": {},
   "outputs": [
    {
     "name": "stdout",
     "output_type": "stream",
     "text": [
      "{'C': 1e-05}\n",
      "0.31288888888888894\n"
     ]
    }
   ],
   "source": [
    "gs5.fit(X_train,y_train)\n",
    "print(gs5.best_params_)\n",
    "print(gs5.best_score_)"
   ]
  },
  {
   "cell_type": "code",
   "execution_count": 14,
   "metadata": {},
   "outputs": [],
   "source": [
    "df['feat_1sq']=df['feat_1'] * df['feat_1']\n",
    "df['feat_2sq']=df['feat_2'] * df['feat_2']"
   ]
  },
  {
   "cell_type": "code",
   "execution_count": 15,
   "metadata": {},
   "outputs": [
    {
     "data": {
      "image/png": "[encoded data removed]",
      "text/plain": [
       "<Figure size 329.625x288 with 1 Axes>"
      ]
     },
     "metadata": {},
     "output_type": "display_data"
    }
   ],
   "source": [
    "plt.close()\n",
    "sns.set_style(\"whitegrid\");\n",
    "sns.FacetGrid(df, hue=\"label\", size=4) \\\n",
    "   .map(plt.scatter, \"feat_1sq\", \"feat_2sq\") \\\n",
    "   .add_legend();\n",
    "plt.xlabel('Feature 1 squared')\n",
    "plt.ylabel('Feature 2 squared')\n",
    "plt.title('Transformed Data')\n",
    "plt.show();"
   ]
  },
  {
   "cell_type": "code",
   "execution_count": 16,
   "metadata": {},
   "outputs": [],
   "source": [
    "X_train, X_test, y_train, y_test=train_test_split(df.drop(columns=['label','feat_1','feat_2']),\\\n",
    "                                                  df['label'], test_size=0.25, stratify=df['label'],random_state=2)"
   ]
  },
  {
   "cell_type": "code",
   "execution_count": 17,
   "metadata": {},
   "outputs": [
    {
     "name": "stdout",
     "output_type": "stream",
     "text": [
      "{'C': 1e-05}\n",
      "1.0\n"
     ]
    }
   ],
   "source": [
    "gs5.fit(X_train,y_train)\n",
    "print(gs5.best_params_)\n",
    "print(gs5.best_score_)"
   ]
  },
  {
   "cell_type": "code",
   "execution_count": 20,
   "metadata": {},
   "outputs": [],
   "source": [
    "x = PrettyTable()"
   ]
  },
  {
   "cell_type": "code",
   "execution_count": 21,
   "metadata": {},
   "outputs": [],
   "source": [
    "x.field_names = [\"Model\",\"Hyperparameter:C\",\"ROC AUC\"]\n",
    "x.add_row([\"Logistic Regression without Feature Engineering\",0.00001,0.31])\n",
    "x.add_row([\"Logistic Regression with Feature Engineering\",0.00001,1])"
   ]
  },
  {
   "cell_type": "code",
   "execution_count": 22,
   "metadata": {},
   "outputs": [
    {
     "name": "stdout",
     "output_type": "stream",
     "text": [
      "+-------------------------------------------------+------------------+---------+\n",
      "|                      Model                      | Hyperparameter:C | ROC AUC |\n",
      "+-------------------------------------------------+------------------+---------+\n",
      "| Logistic Regression without Feature Engineering |      1e-05       |   0.31  |\n",
      "|   Logistic Regression with Feature Engineering  |      1e-05       |    1    |\n",
      "+-------------------------------------------------+------------------+---------+\n"
     ]
    }
   ],
   "source": [
    "print(x)"
   ]
  }
 ],
 "metadata": {
  "kernelspec": {
   "display_name": "Python 3",
   "language": "python",
   "name": "python3"
  },
  "language_info": {
   "codemirror_mode": {
    "name": "ipython",
    "version": 3
   },
   "file_extension": ".py",
   "mimetype": "text/x-python",
   "name": "python",
   "nbconvert_exporter": "python",
   "pygments_lexer": "ipython3",
   "version": "3.6.8"
  }
 },
 "nbformat": 4,
 "nbformat_minor": 2
}
