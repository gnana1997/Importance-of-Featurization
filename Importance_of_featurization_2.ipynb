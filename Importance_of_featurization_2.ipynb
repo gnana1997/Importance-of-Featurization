{
 "cells": [
  {
   "cell_type": "code",
   "execution_count": 1,
   "metadata": {
    "colab": {},
    "colab_type": "code",
    "id": "x2EFO-mqsQi6"
   },
   "outputs": [],
   "source": [
    "import pandas as pd\n",
    "import numpy as np\n",
    "import math\n",
    "import random\n",
    "import matplotlib.pyplot as plt\n",
    "from sklearn.model_selection import GridSearchCV\n",
    "from sklearn.model_selection import train_test_split\n",
    "from sklearn.linear_model import LogisticRegression\n",
    "import warnings\n",
    "warnings.filterwarnings(\"ignore\")\n",
    "from prettytable import PrettyTable\n",
    "%matplotlib inline"
   ]
  },
  {
   "cell_type": "code",
   "execution_count": 2,
   "metadata": {
    "colab": {},
    "colab_type": "code",
    "id": "JfVGi97WsQi_"
   },
   "outputs": [],
   "source": [
    "a=random.sample(range(10, 100), 50)\n",
    "b=random.sample(range(10, 100), 50)\n",
    "c=random.sample(range(-100, -10), 50)\n",
    "d=random.sample(range(-100, -10), 50)"
   ]
  },
  {
   "cell_type": "code",
   "execution_count": 3,
   "metadata": {
    "colab": {},
    "colab_type": "code",
    "id": "8yWuZayGtydS"
   },
   "outputs": [],
   "source": [
    "feat_1_pos=list(a)\n",
    "feat_1_pos.extend(list(c))"
   ]
  },
  {
   "cell_type": "code",
   "execution_count": 4,
   "metadata": {
    "colab": {},
    "colab_type": "code",
    "id": "lvWFp2qst_pq"
   },
   "outputs": [],
   "source": [
    "feat_2_pos=list(b)\n",
    "feat_2_pos.extend(list(d))"
   ]
  },
  {
   "cell_type": "code",
   "execution_count": 5,
   "metadata": {
    "colab": {},
    "colab_type": "code",
    "id": "FkzM68yssQjD"
   },
   "outputs": [],
   "source": [
    "pos_df=pd.DataFrame(columns=['feat_1','feat_2','label'])"
   ]
  },
  {
   "cell_type": "code",
   "execution_count": 6,
   "metadata": {
    "colab": {},
    "colab_type": "code",
    "id": "LNwrpk5isQjI"
   },
   "outputs": [],
   "source": [
    "pos_df['feat_1']=feat_1_pos\n",
    "pos_df['feat_2']=feat_2_pos\n",
    "pos_df['label']=[1 for i in range(0,100)]"
   ]
  },
  {
   "cell_type": "code",
   "execution_count": 7,
   "metadata": {
    "colab": {},
    "colab_type": "code",
    "id": "zi_0I1CXtKYj"
   },
   "outputs": [],
   "source": [
    "feat_1_neg=list(c)\n",
    "feat_1_neg.extend(list(a))\n",
    "feat_2_neg=list(b)\n",
    "feat_2_neg.extend(list(d))"
   ]
  },
  {
   "cell_type": "code",
   "execution_count": 8,
   "metadata": {
    "colab": {},
    "colab_type": "code",
    "id": "Rx2FYLZYsQjM"
   },
   "outputs": [],
   "source": [
    "neg_df=pd.DataFrame(columns=['feat_1','feat_2','label'])"
   ]
  },
  {
   "cell_type": "code",
   "execution_count": 9,
   "metadata": {
    "colab": {},
    "colab_type": "code",
    "id": "1QYKxVrdsQjQ"
   },
   "outputs": [],
   "source": [
    "neg_df['feat_1']=feat_1_neg\n",
    "neg_df['feat_2']=feat_2_neg\n",
    "neg_df['label']=[0 for i in range(0,100)]"
   ]
  },
  {
   "cell_type": "code",
   "execution_count": 10,
   "metadata": {
    "colab": {},
    "colab_type": "code",
    "id": "XiaQhd18sQjV"
   },
   "outputs": [],
   "source": [
    "df=pd.concat([pos_df,neg_df])"
   ]
  },
  {
   "cell_type": "code",
   "execution_count": 11,
   "metadata": {
    "colab": {},
    "colab_type": "code",
    "id": "zQdUuuOgsQjZ"
   },
   "outputs": [],
   "source": [
    "import seaborn as sns"
   ]
  },
  {
   "cell_type": "code",
   "execution_count": 12,
   "metadata": {
    "colab": {
     "base_uri": "https://localhost:8080/",
     "height": 312
    },
    "colab_type": "code",
    "id": "P4M_gd3lsQjd",
    "outputId": "656d5e13-2a9b-457b-9f2a-9f99ecdf914a"
   },
   "outputs": [
    {
     "data": {
      "image/png": "[encoded data removed]",
      "text/plain": [
       "<Figure size 329.625x288 with 1 Axes>"
      ]
     },
     "metadata": {},
     "output_type": "display_data"
    }
   ],
   "source": [
    "plt.close()\n",
    "sns.set_style(\"whitegrid\");\n",
    "sns.FacetGrid(df, hue=\"label\", size=4) \\\n",
    "   .map(plt.scatter, \"feat_1\", \"feat_2\") \\\n",
    "   .add_legend();\n",
    "plt.xlabel('Feature 1')\n",
    "plt.ylabel('Feature 2')\n",
    "plt.title('Original Data')\n",
    "plt.show();"
   ]
  },
  {
   "cell_type": "code",
   "execution_count": 13,
   "metadata": {
    "colab": {},
    "colab_type": "code",
    "id": "uX3mMcjDsQjh"
   },
   "outputs": [],
   "source": [
    "#Hyperparameter C\n",
    "c=[0.00001,0.0001,0.001,0.1,1,\\\n",
    "       10,100,1000]"
   ]
  },
  {
   "cell_type": "code",
   "execution_count": 14,
   "metadata": {
    "colab": {},
    "colab_type": "code",
    "id": "JdOEHoG0sQjk"
   },
   "outputs": [],
   "source": [
    "c_dict={'C':c}\n",
    "#Here I am using L2 regularization\n",
    "lr=LogisticRegression(penalty='l2',random_state=2)\n",
    "gs5=GridSearchCV(lr,param_grid=c_dict,scoring='roc_auc',cv=5)"
   ]
  },
  {
   "cell_type": "code",
   "execution_count": 15,
   "metadata": {
    "colab": {},
    "colab_type": "code",
    "id": "F_RSdSQgsQjo"
   },
   "outputs": [],
   "source": [
    "X_train, X_test, y_train, y_test=train_test_split(df.drop(columns='label'), df['label'], test_size=0.25, stratify=df['label'],random_state=2)"
   ]
  },
  {
   "cell_type": "code",
   "execution_count": 16,
   "metadata": {
    "colab": {
     "base_uri": "https://localhost:8080/",
     "height": 51
    },
    "colab_type": "code",
    "id": "ncxzn6lVsQjr",
    "outputId": "08ccc670-edb6-4514-96a7-1916efaaf2ec"
   },
   "outputs": [
    {
     "name": "stdout",
     "output_type": "stream",
     "text": [
      "{'C': 0.1}\n",
      "0.4008888888888889\n"
     ]
    }
   ],
   "source": [
    "gs5.fit(X_train,y_train)\n",
    "print(gs5.best_params_)\n",
    "print(gs5.best_score_)"
   ]
  },
  {
   "cell_type": "code",
   "execution_count": 17,
   "metadata": {
    "colab": {},
    "colab_type": "code",
    "id": "_XdHI688sQjv"
   },
   "outputs": [],
   "source": [
    "df['feat_1_new']=df['feat_1'] * df['feat_2']\n",
    "df['feat_2_new']=df['feat_2']"
   ]
  },
  {
   "cell_type": "code",
   "execution_count": 18,
   "metadata": {
    "colab": {
     "base_uri": "https://localhost:8080/",
     "height": 312
    },
    "colab_type": "code",
    "id": "kQ7c5iQcsQjy",
    "outputId": "a21fa667-feea-467f-c270-4f2ac18f0e3c"
   },
   "outputs": [
    {
     "data": {
      "image/png": "[encoded data removed]",
      "text/plain": [
       "<Figure size 329.625x288 with 1 Axes>"
      ]
     },
     "metadata": {},
     "output_type": "display_data"
    }
   ],
   "source": [
    "plt.close()\n",
    "sns.set_style(\"whitegrid\");\n",
    "sns.FacetGrid(df, hue=\"label\", size=4) \\\n",
    "   .map(plt.scatter, \"feat_1_new\", \"feat_2_new\") \\\n",
    "   .add_legend();\n",
    "plt.xlabel('Feature 1 new')\n",
    "plt.ylabel('Feature 2 new')\n",
    "plt.title('Transformed Data')\n",
    "plt.show();"
   ]
  },
  {
   "cell_type": "code",
   "execution_count": 19,
   "metadata": {
    "colab": {},
    "colab_type": "code",
    "id": "0A_inTLMsQj1"
   },
   "outputs": [],
   "source": [
    "X_train, X_test, y_train, y_test=train_test_split(df.drop(columns=['label','feat_1','feat_2']),\\\n",
    "                                                  df['label'], test_size=0.25, stratify=df['label'],random_state=2)"
   ]
  },
  {
   "cell_type": "code",
   "execution_count": 20,
   "metadata": {
    "colab": {
     "base_uri": "https://localhost:8080/",
     "height": 51
    },
    "colab_type": "code",
    "id": "CYefMUr1sQj7",
    "outputId": "cfe0d258-565a-4723-ae29-2d9e81a91be5"
   },
   "outputs": [
    {
     "name": "stdout",
     "output_type": "stream",
     "text": [
      "{'C': 1e-05}\n",
      "1.0\n"
     ]
    }
   ],
   "source": [
    "gs5.fit(X_train,y_train)\n",
    "print(gs5.best_params_)\n",
    "print(gs5.best_score_)"
   ]
  },
  {
   "cell_type": "code",
   "execution_count": 21,
   "metadata": {
    "colab": {},
    "colab_type": "code",
    "id": "DWs9rZZ7sQj-"
   },
   "outputs": [],
   "source": [
    "x = PrettyTable()"
   ]
  },
  {
   "cell_type": "code",
   "execution_count": 22,
   "metadata": {
    "colab": {},
    "colab_type": "code",
    "id": "n6BNr-gAsQkB"
   },
   "outputs": [],
   "source": [
    "x.field_names = [\"Model\",\"Hyperparameter:C\",\"ROC AUC\"]\n",
    "x.add_row([\"Logistic Regression without Feature Engineering\",0.00001,0.31])\n",
    "x.add_row([\"Logistic Regression with Feature Engineering\",0.00001,1])"
   ]
  },
  {
   "cell_type": "code",
   "execution_count": 23,
   "metadata": {
    "colab": {
     "base_uri": "https://localhost:8080/",
     "height": 119
    },
    "colab_type": "code",
    "id": "m-PjCnL5sQkE",
    "outputId": "69f1c16f-459f-4b00-aee7-a09331ddd2ac"
   },
   "outputs": [
    {
     "name": "stdout",
     "output_type": "stream",
     "text": [
      "+-------------------------------------------------+------------------+---------+\n",
      "|                      Model                      | Hyperparameter:C | ROC AUC |\n",
      "+-------------------------------------------------+------------------+---------+\n",
      "| Logistic Regression without Feature Engineering |      1e-05       |   0.31  |\n",
      "|   Logistic Regression with Feature Engineering  |      1e-05       |    1    |\n",
      "+-------------------------------------------------+------------------+---------+\n"
     ]
    }
   ],
   "source": [
    "print(x)"
   ]
  }
 ],
 "metadata": {
  "colab": {
   "collapsed_sections": [],
   "name": "Importance of featurization-2.ipynb",
   "provenance": []
  },
  "kernelspec": {
   "display_name": "Python 3",
   "language": "python",
   "name": "python3"
  },
  "language_info": {
   "codemirror_mode": {
    "name": "ipython",
    "version": 3
   },
   "file_extension": ".py",
   "mimetype": "text/x-python",
   "name": "python",
   "nbconvert_exporter": "python",
   "pygments_lexer": "ipython3",
   "version": "3.6.8"
  }
 },
 "nbformat": 4,
 "nbformat_minor": 1
}
